{
 "cells": [
  {
   "cell_type": "code",
   "execution_count": 1,
   "metadata": {},
   "outputs": [],
   "source": [
    "import numpy as np\n",
    "\n",
    "def reg_model(beta, x):\n",
    "    theta = np.array(beta, dtype=float)\n",
    "    return theta[0]+theta[1]*x\n",
    "\n",
    "def mse(beta, x, y):\n",
    "    ypred = reg_model(beta,x)\n",
    "    mean_squared_error = np.mean((ypred-y)**2)    \n",
    "    return mean_squared_error    \n",
    "\n",
    "def grad_mse(beta, x, y):\n",
    "    ypred = reg_model(beta,x)\n",
    "    grad = np.array([0,0],dtype=float)\n",
    "    grad[0] = 2*np.mean(ypred-y)\n",
    "    grad[1] = 2*np.mean((ypred-y)*x)\n",
    "    return grad\n",
    "\n",
    "def grad_descent(x, y, tol=1e-10, learn_rate=0.01, maxiter=400, thetaseed=[-10,20]):\n",
    "    theta = np.array(thetaseed,dtype=float)\n",
    "    cost = mse(theta, x, y)\n",
    "    loss_fun_history = [cost.tolist()]\n",
    "    theta_history = [theta.tolist()]\n",
    "    for iterate in range(maxiter):        \n",
    "        gradient_vector = grad_mse(theta,x,y)        # Cost Function Evaluation        \n",
    "        theta-=learn_rate*gradient_vector            # Updating Scheme in Vector Form    \n",
    "        cost_new = mse(theta,x,y)                    # Cost Function Revaluation\n",
    "        DeltaJ = np.abs(cost_new-cost)\n",
    "        #print(iterate,\" \",cost,\" (\",theta[0],\",\",theta[1],\")\")\n",
    "        if DeltaJ<tol:\n",
    "            print(\"Convergence!\")\n",
    "            print(DeltaJ)\n",
    "            break\n",
    "        loss_fun_history.append(cost_new.tolist())\n",
    "        theta_history.append(theta.tolist())\n",
    "        cost = cost_new\n",
    "    return theta, loss_fun_history, np.array(theta_history)"
   ]
  },
  {
   "cell_type": "markdown",
   "metadata": {},
   "source": [
    "# 1. Testing the Vanilla Gradient Descent Method\n",
    "## 1.1 Simple Test \\#1 \n",
    "We consider first the simulated regression with one feature and bias term:\n",
    "$$\n",
    "y = \\theta_0 + \\theta_1 x + \\sigma\\epsilon \\quad \\epsilon\\sim\\mathcal{N}(0,1)\n",
    "$$\n",
    "with $\\theta_0 = 2$, $\\theta_1 = 5$ and $\\sigma=1.0$. Therefore:"
   ]
  },
  {
   "cell_type": "code",
   "execution_count": 2,
   "metadata": {},
   "outputs": [],
   "source": [
    "theta0 = 2.\n",
    "theta1 = 5.\n",
    "sigma = 1.\n",
    "xsim = np.random.randn(100,1)\n",
    "noise = sigma*np.random.randn(100,1)\n",
    "ysim = theta0 + theta1*xsim+noise"
   ]
  },
  {
   "cell_type": "code",
   "execution_count": 3,
   "metadata": {},
   "outputs": [
    {
     "name": "stdout",
     "output_type": "stream",
     "text": [
      "(100, 1) (100, 1)\n"
     ]
    }
   ],
   "source": [
    "print(xsim.shape, ysim.shape)"
   ]
  },
  {
   "cell_type": "code",
   "execution_count": 4,
   "metadata": {},
   "outputs": [
    {
     "data": {
      "text/plain": [
       "[<matplotlib.lines.Line2D at 0x7fcd7037c520>]"
      ]
     },
     "execution_count": 4,
     "metadata": {},
     "output_type": "execute_result"
    },
    {
     "data": {
      "image/png": "[encoded data removed]",
      "text/plain": [
       "<Figure size 432x288 with 1 Axes>"
      ]
     },
     "metadata": {
      "needs_background": "light"
     },
     "output_type": "display_data"
    }
   ],
   "source": [
    "import matplotlib.pyplot as plt\n",
    "plt.plot(xsim,ysim,'kx')"
   ]
  },
  {
   "cell_type": "code",
   "execution_count": 5,
   "metadata": {},
   "outputs": [],
   "source": [
    "theta_gd, cost_hist, theta_hist = grad_descent(xsim, ysim)"
   ]
  },
  {
   "cell_type": "code",
   "execution_count": 6,
   "metadata": {},
   "outputs": [
    {
     "data": {
      "text/plain": [
       "[<matplotlib.lines.Line2D at 0x7fcd643b8130>]"
      ]
     },
     "execution_count": 6,
     "metadata": {},
     "output_type": "execute_result"
    },
    {
     "data": {
      "image/png": "[encoded data removed]",
      "text/plain": [
       "<Figure size 432x288 with 1 Axes>"
      ]
     },
     "metadata": {
      "needs_background": "light"
     },
     "output_type": "display_data"
    }
   ],
   "source": [
    "plt.plot(cost_hist,'ko')"
   ]
  },
  {
   "cell_type": "code",
   "execution_count": 7,
   "metadata": {},
   "outputs": [
    {
     "name": "stdout",
     "output_type": "stream",
     "text": [
      "[2.13844159 4.8531435 ]\n"
     ]
    }
   ],
   "source": [
    "print(theta_gd)"
   ]
  },
  {
   "cell_type": "markdown",
   "metadata": {},
   "source": [
    "## 1.2 Using `make_regression` from `sklearn`: Test \\#2"
   ]
  },
  {
   "cell_type": "markdown",
   "metadata": {},
   "source": [
    "`make_regression` from `sklearn` is capable to generate simulated data from a linear regression by specifying the number $n$ of features (i.e. the \\# explanatory variables with coefficients $\\theta_1,\\dots,\\theta_n$), the bias $\\theta_0$ and the number of points (observations to be simulated). \n",
    "\n",
    "__Hints__: `coef` boolean make available the simulated coefficient (parameter) as an output. `random_state` fixes de seed for the shake of reproducibility."
   ]
  },
  {
   "cell_type": "code",
   "execution_count": 8,
   "metadata": {},
   "outputs": [
    {
     "name": "stdout",
     "output_type": "stream",
     "text": [
      "(100, 1) (100,)\n"
     ]
    }
   ],
   "source": [
    "from sklearn.datasets import make_regression\n",
    "xobs, yobs, coef = make_regression(n_features=1,\n",
    "                                  n_informative=1,\n",
    "                                  bias=10,\n",
    "                                  noise=5,\n",
    "                                  coef=True, \n",
    "                                  random_state=20220513)\n",
    "print(xobs.shape, yobs.shape)"
   ]
  },
  {
   "cell_type": "code",
   "execution_count": 9,
   "metadata": {},
   "outputs": [
    {
     "name": "stdout",
     "output_type": "stream",
     "text": [
      "36.73468292016812\n"
     ]
    }
   ],
   "source": [
    "print(coef)"
   ]
  },
  {
   "cell_type": "code",
   "execution_count": 10,
   "metadata": {},
   "outputs": [
    {
     "data": {
      "text/plain": [
       "[<matplotlib.lines.Line2D at 0x7fcd5e8bea90>]"
      ]
     },
     "execution_count": 10,
     "metadata": {},
     "output_type": "execute_result"
    },
    {
     "data": {
      "image/png": "[encoded data removed]",
      "text/plain": [
       "<Figure size 432x288 with 1 Axes>"
      ]
     },
     "metadata": {
      "needs_background": "light"
     },
     "output_type": "display_data"
    }
   ],
   "source": [
    "plt.plot(xobs,yobs,'kx')"
   ]
  },
  {
   "cell_type": "markdown",
   "metadata": {},
   "source": [
    "Then, the regression model generated by `make_regression` can be written as:\n",
    "$$\n",
    "y_{obs} = \\theta_0 + \\theta_1 x_{obs} + \\sigma\\epsilon\\quad \\epsilon\\sim\\mathcal{N}(0,1)\n",
    "$$\n",
    "with $\\theta_0 = 10$, $\\theta_1\\approx 36.735$ and $\\sigma=5$."
   ]
  },
  {
   "cell_type": "code",
   "execution_count": 11,
   "metadata": {},
   "outputs": [],
   "source": [
    "yobs = np.array([yobs]).T"
   ]
  },
  {
   "cell_type": "code",
   "execution_count": 12,
   "metadata": {},
   "outputs": [
    {
     "name": "stdout",
     "output_type": "stream",
     "text": [
      "[ 9.68970475 36.61240911]\n"
     ]
    },
    {
     "data": {
      "image/png": "[encoded data removed]",
      "text/plain": [
       "<Figure size 432x288 with 1 Axes>"
      ]
     },
     "metadata": {
      "needs_background": "light"
     },
     "output_type": "display_data"
    }
   ],
   "source": [
    "theta_gd, loss_fun, theta_list = grad_descent(xobs, yobs)\n",
    "plt.plot(loss_fun,'ko')\n",
    "print(theta_gd)"
   ]
  },
  {
   "cell_type": "markdown",
   "metadata": {},
   "source": [
    "# 2. Comparing With Normal Equations"
   ]
  },
  {
   "cell_type": "markdown",
   "metadata": {},
   "source": [
    "_Normal Equations_ are equivalent to the First Order Conditions for the Gradient, ie.\n",
    "$$\n",
    "X^T X \\boldsymbol{\\theta} = X^T \\mathbf{y}\n",
    "$$\n",
    "\n",
    "Provided that the matrix $X^T X$ is invertible, we can express the former relation as:\n",
    "$$\n",
    "\\boldsymbol{\\theta} = (X^T X)^{-1} X^T \\mathbf{y} = X^+ \\mathbf{y}\n",
    "$$\n",
    "where we have introduced the pseudo-inverse matrix of $X$ (aka Moore-Penrose inverse).\n",
    "\n",
    "The package `numpy.linalg` contains the implementation `pinv` for the calculation of this matrix."
   ]
  },
  {
   "cell_type": "code",
   "execution_count": 13,
   "metadata": {},
   "outputs": [],
   "source": [
    "def linreg_normal_eqs(x, y):\n",
    "    X = np.concatenate((np.ones(x.shape),x),axis=1) # Concatenating Constant Feature\n",
    "    theta = np.linalg.pinv(X)@y\n",
    "    return theta"
   ]
  },
  {
   "cell_type": "markdown",
   "metadata": {},
   "source": [
    "## Test \\#1"
   ]
  },
  {
   "cell_type": "code",
   "execution_count": 14,
   "metadata": {},
   "outputs": [
    {
     "name": "stdout",
     "output_type": "stream",
     "text": [
      "Test #1\n",
      "Parameter Estimation Using Normal Equations and Pseudoinverse: [[2.1549615090856333, 4.8362462977574925]]\n",
      "Parameter Estimation Using Vanilla Gradient Descent: [2.13844159 4.8531435 ]\n"
     ]
    }
   ],
   "source": [
    "theta_by_normaleqs = linreg_normal_eqs(xsim, ysim)\n",
    "print(\"Test #1\")\n",
    "print(f\"Parameter Estimation Using Normal Equations and Pseudoinverse: {theta_by_normaleqs.T.tolist()}\")\n",
    "theta_by_gd, *_ = grad_descent(xsim,ysim)\n",
    "print(f\"Parameter Estimation Using Vanilla Gradient Descent: {theta_by_gd}\")"
   ]
  },
  {
   "cell_type": "markdown",
   "metadata": {},
   "source": [
    "## Test \\#2"
   ]
  },
  {
   "cell_type": "code",
   "execution_count": 17,
   "metadata": {},
   "outputs": [
    {
     "name": "stdout",
     "output_type": "stream",
     "text": [
      "Test #2\n",
      "Parameter Estimation Using Normal Equations and Pseudoinverse: [[9.703899451272918, 36.63101611006492]]\n",
      "Parameter Estimation Using Vanilla Gradient Descent: [ 9.68970475 36.61240911]\n"
     ]
    }
   ],
   "source": [
    "theta2_by_normaleqs = linreg_normal_eqs(xobs, yobs)\n",
    "print(\"Test #2\")\n",
    "print(f\"Parameter Estimation Using Normal Equations and Pseudoinverse: {theta2_by_normaleqs.T.tolist()}\")\n",
    "theta2_by_gd, *_ = grad_descent(xobs, yobs)\n",
    "print(f\"Parameter Estimation Using Vanilla Gradient Descent: {theta2_by_gd}\")"
   ]
  }
 ],
 "metadata": {
  "interpreter": {
   "hash": "930999d88d4d8ca352e5b27f6ec2bd843ab4fe05ee751c9cb70565d73830855e"
  },
  "kernelspec": {
   "display_name": "Python 3 (ipykernel)",
   "language": "python",
   "name": "python3"
  },
  "language_info": {
   "codemirror_mode": {
    "name": "ipython",
    "version": 3
   },
   "file_extension": ".py",
   "mimetype": "text/x-python",
   "name": "python",
   "nbconvert_exporter": "python",
   "pygments_lexer": "ipython3",
   "version": "3.8.5"
  }
 },
 "nbformat": 4,
 "nbformat_minor": 4
}
