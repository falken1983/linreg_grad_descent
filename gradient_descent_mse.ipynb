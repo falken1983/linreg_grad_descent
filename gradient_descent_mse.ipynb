{
 "cells": [
  {
   "cell_type": "code",
   "execution_count": 1,
   "metadata": {},
   "outputs": [
    {
     "name": "stdout",
     "output_type": "stream",
     "text": [
      "Variable   Type      Data/Info\n",
      "------------------------------\n",
      "os         module    <module 'os' from '/home/<...>da3/lib/python3.8/os.py'>\n",
      "sys        module    <module 'sys' (built-in)>\n"
     ]
    }
   ],
   "source": []
  },
  {
   "cell_type": "code",
   "execution_count": 65,
   "metadata": {},
   "outputs": [],
   "source": [
    "import numpy as np\n",
    "\n",
    "def reg_model(beta, x):\n",
    "    return beta[0]+beta[1]*x\n",
    "\n",
    "def mse(beta, x, y):\n",
    "    ypred = reg_model(beta,x)\n",
    "    ssr = np.sum((ypred-y)**2)\n",
    "    mean_squared_error = ssr/len(ypred)\n",
    "    return mean_squared_error    \n",
    "\n",
    "def grad_mse(beta, x, y):\n",
    "    ypred = reg_model(beta,x)\n",
    "    gradient = np.array([0,0])\n",
    "    gradient[0] = 2/len(ypred)*np.sum(ypred-y)\n",
    "    gradient[1] = 2/len(ypred)*np.sum((ypred-y)*x)    \n",
    "    return gradient\n",
    "\n",
    "def grad_descent(x, y, tol=1e-10, learn_rate=0.001, maxiter=400, thetaseed=[-10.0,20.0]):\n",
    "    theta = thetaseed\n",
    "    for iterate in range(maxiter):\n",
    "        # Cost Function Val\n",
    "        cost = mse(theta, x, y)\n",
    "        gradient_vector = grad_mse(theta,x,y)\n",
    "        theta[0]-=learn_rate*gradient_vector[0]\n",
    "        theta[1]-=learn_rate*gradient_vector[1]        \n",
    "        # Cost Function Revaluation\n",
    "        cost_new = mse(theta,x,y)\n",
    "        DeltaJ = abs(cost_new-cost)\n",
    "        print(iterate,\" \",cost,\" (\",theta[0],\",\",theta[1],\")\")\n",
    "        if DeltaJ<tol:\n",
    "            print(\"Convergence!\")\n",
    "            print(DeltaJ)\n",
    "            break\n",
    "    return theta"
   ]
  },
  {
   "cell_type": "code",
   "execution_count": null,
   "metadata": {},
   "outputs": [],
   "source": []
  }
 ],
 "metadata": {
  "interpreter": {
   "hash": "930999d88d4d8ca352e5b27f6ec2bd843ab4fe05ee751c9cb70565d73830855e"
  },
  "kernelspec": {
   "display_name": "Python 3.8.5 ('base')",
   "language": "python",
   "name": "python3"
  },
  "language_info": {
   "codemirror_mode": {
    "name": "ipython",
    "version": 3
   },
   "file_extension": ".py",
   "mimetype": "text/x-python",
   "name": "python",
   "nbconvert_exporter": "python",
   "pygments_lexer": "ipython3",
   "version": "3.8.5"
  }
 },
 "nbformat": 4,
 "nbformat_minor": 4
}
